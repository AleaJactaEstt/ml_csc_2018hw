{
 "cells": [
  {
   "cell_type": "code",
   "execution_count": 5,
   "metadata": {},
   "outputs": [],
   "source": [
    "import pandas as pd\n",
    "import numpy as np\n",
    "import math\n",
    "\n",
    "# start sklearn\n",
    "from sklearn.preprocessing import StandardScaler\n",
    "from sklearn import linear_model\n",
    "from sklearn.metrics import mean_squared_error\n",
    "from sklearn.preprocessing import LabelBinarizer\n",
    "# end sklearn\n",
    "\n",
    "\n",
    "import warnings\n",
    "warnings.filterwarnings('ignore')\n",
    "\n",
    "df_train = pd.read_csv('train.csv')\n",
    "\n",
    "y_train = df_train['averageRating']\n",
    "df_test = pd.read_csv('test.csv')\n",
    "ans = df_test['Id']\n",
    "\n",
    "genres_train = df_train['genres']\n",
    "genres_test = df_test['genres']"
   ]
  },
  {
   "cell_type": "code",
   "execution_count": 6,
   "metadata": {},
   "outputs": [],
   "source": [
    "ans = pd.DataFrame(ans)"
   ]
  },
  {
   "cell_type": "code",
   "execution_count": 7,
   "metadata": {},
   "outputs": [],
   "source": [
    "df_train.drop(columns = ['genres','genderVoters','averageRating','mainWriter','mainDirector','firstShownCountry','prefVotersCountry','mainWriterBirthYear','mainDirectorBirthYear','primaryTitle','originalTitle','isAdult','endYear', 'mainDirectorDeathYear', 'mainWriterDeathYear', 'MainWriterPrimaryProfession','MainDirectorPrimaryProfession','titleLength'], inplace = True)\n",
    "df_test.drop(columns = ['genres','genderVoters','Id','mainWriter','mainDirector','firstShownCountry','prefVotersCountry','mainWriterBirthYear','mainDirectorBirthYear','primaryTitle','originalTitle','isAdult','endYear', 'mainDirectorDeathYear','mainWriterDeathYear','MainWriterPrimaryProfession','MainDirectorPrimaryProfession','titleLength'], inplace = True)"
   ]
  },
  {
   "cell_type": "code",
   "execution_count": 8,
   "metadata": {},
   "outputs": [],
   "source": [
    "def special_means_for_keys(df, key_column, res_colum):\n",
    "    sums = dict.fromkeys(set(df[key_column].values),0)\n",
    "    num_of_non_nan = dict.fromkeys(set(df[key_column].values),0)\n",
    "\n",
    "    for i, value in enumerate(df[res_colum]):\n",
    "        sums[df.iloc[i,0]] += 0 if math.isnan(value) else value\n",
    "        num_of_non_nan[df.iloc[i,0]] += 0 if math.isnan(value) else 1  \n",
    "    for key in sums:\n",
    "        sums[key] = sums[key]/num_of_non_nan[key] if (not num_of_non_nan[key] == 0) else 0  \n",
    "    return sums\n",
    "\n",
    "def fillna_for_keys(df,key_column,res_column, dict_values):\n",
    "    for i in range(len(df[res_column])):\n",
    "        if math.isnan(df[res_column][i]):\n",
    "            df[res_column][i] = dict_values[df[key_column][i]]\n",
    "            \n",
    "# means = special_means_for_keys(df_train, 'titleType', 'runtimeMinutes')\n",
    "# fillna_for_keys(df_train,'titleType','runtimeMinutes',means)"
   ]
  },
  {
   "cell_type": "markdown",
   "metadata": {},
   "source": [
    "# Category_preprocessing"
   ]
  },
  {
   "cell_type": "code",
   "execution_count": 9,
   "metadata": {},
   "outputs": [],
   "source": [
    "lb = LabelBinarizer()\n",
    "\n",
    "cat_train = df_train.select_dtypes(include=['object']).copy()\n",
    "cat_test = df_test.select_dtypes(include=['object']).copy()\n",
    "cat_test['titleType'] = cat_test['titleType'].astype('category')\n",
    "cat_train['titleType'] = cat_train['titleType'].astype('category')\n",
    "\n",
    "# TRAIN linear Binarization\n",
    "lb_result = lb.fit_transform(cat_train['titleType'])\n",
    "lb_result_df = pd.DataFrame(lb_result,columns=lb.classes_)\n",
    "lb_result_df = lb_result_df.join(df_train['worldPromotion'])\n",
    "# END\n",
    "\n",
    "# TEST linear Binarization\n",
    "lb_result = lb.fit_transform(cat_test['titleType'])\n",
    "lb_result_df_test = pd.DataFrame(lb_result,columns=lb.classes_)\n",
    "lb_result_df_test = lb_result_df_test.join(df_test['worldPromotion'])\n",
    "# END\n",
    "\n",
    "df_train.drop(columns = ['titleType','worldPromotion'], inplace=True)\n",
    "df_test.drop(columns = ['titleType','worldPromotion'], inplace=True)\n",
    "\n",
    "df_train['Downloads'].replace({-1:np.nan},inplace=True)\n",
    "df_train[\"Downloads\"].fillna(df_train[\"Downloads\"].median(), inplace=True)\n",
    "df_train['runtimeMinutes'].fillna(df_train[\"runtimeMinutes\"].median(),inplace=True)\n",
    "\n",
    "df_test['Downloads'].replace({-1:np.nan},inplace=True)\n",
    "df_test[\"Downloads\"].fillna(df_test[\"Downloads\"].median(), inplace=True)\n",
    "df_test[\"startYear\"].fillna((int)(df_test[\"startYear\"].median()), inplace=True)\n",
    "df_test['runtimeMinutes'].fillna(df_test[\"runtimeMinutes\"].median(),inplace=True)"
   ]
  },
  {
   "cell_type": "code",
   "execution_count": 10,
   "metadata": {},
   "outputs": [],
   "source": [
    "data1={'History':0, 'War':0,'Sport':0,'Musical':0,'News':0,'Game-Show':0,'Talk-Show':0,'Adult':0,'Western':0, 'Biography':0,'Reality-TV':0, 'Sci-Fi':0,'Adventure':0,'Family':0,'Animation':0,'Crime':0,'Comedy':0, 'Drama' : 0, 'Action': 0, 'Fantasy': 0, 'Horror': 0, 'Thriller': 0, 'Documentary': 0, 'Mystery': 0, 'Romance': 0,'2Nones':0}"
   ]
  },
  {
   "cell_type": "code",
   "execution_count": 11,
   "metadata": {},
   "outputs": [],
   "source": [
    "genres = genres_train\n",
    "ddd = []\n",
    "nan_handler = 0\n",
    "for list_genres in genres:\n",
    "    list_genress = list_genres.replace(\"[\",\"\").replace(\"]\",\"\").replace(\"'\",'').replace(',','')\n",
    "    list_genress = list_genress.split()\n",
    "    data = dict.fromkeys(data1,0)\n",
    "    nones2 = 0\n",
    "    for i in list_genress:\n",
    "        if i in data:\n",
    "            data[i] = 1\n",
    "        else:\n",
    "            if i == 'None':\n",
    "                data['2Nones'] = 1\n",
    "    nan_handler += 1\n",
    "    ddd.append(list(data.values()))\n",
    "    \n",
    "cat_genres_train = pd.DataFrame(ddd,columns=data.keys())"
   ]
  },
  {
   "cell_type": "code",
   "execution_count": 12,
   "metadata": {},
   "outputs": [],
   "source": [
    "genres = genres_test\n",
    "ddd = []\n",
    "for list_genres in genres:\n",
    "    list_genress = list_genres.replace(\"[\",\"\").replace(\"]\",\"\").replace(\"'\",'').replace(',','')\n",
    "    list_genress = list_genress.split()\n",
    "    data = dict.fromkeys(data1,0)\n",
    "    nones2 = 0\n",
    "    for i in list_genress:\n",
    "        if i in data:\n",
    "            data[i] = 1\n",
    "        else:\n",
    "            if i == 'None':\n",
    "                data['2Nones'] = 1\n",
    "    ddd.append(list(data.values()))\n",
    "    \n",
    "cat_genres_test = pd.DataFrame(ddd,columns=data.keys())"
   ]
  },
  {
   "cell_type": "code",
   "execution_count": 14,
   "metadata": {},
   "outputs": [],
   "source": [
    "with pd.option_context('display.max_rows', None, 'display.max_columns', None):\n",
    "  display(df_train)\n",
    "#df_train.info()"
   ]
  },
  {
   "cell_type": "code",
   "execution_count": null,
   "metadata": {},
   "outputs": [],
   "source": []
  },
  {
   "cell_type": "markdown",
   "metadata": {},
   "source": [
    "# Standardization"
   ]
  },
  {
   "cell_type": "code",
   "execution_count": 15,
   "metadata": {},
   "outputs": [],
   "source": [
    "sd = StandardScaler()\n",
    "df_train = pd.DataFrame(sd.fit_transform(df_train))\n",
    "df_test = pd.DataFrame(sd.transform(df_test))\n",
    "df_train = df_train.join(lb_result_df)\n",
    "df_train = df_train.join(cat_genres_train)\n",
    "df_test = df_test.join(lb_result_df_test)\n",
    "df_test = df_test.join(cat_genres_test)"
   ]
  },
  {
   "cell_type": "markdown",
   "metadata": {},
   "source": [
    "# Linear Reg. Learn"
   ]
  },
  {
   "cell_type": "code",
   "execution_count": 16,
   "metadata": {},
   "outputs": [],
   "source": [
    "lr = linear_model.LinearRegression()\n",
    "lr.fit(df_train,y_train)\n",
    "ans = ans.join(pd.DataFrame(lr.predict(df_test)))\n",
    "ans = ans.rename(index=str, columns={0:'Y'})\n",
    "ans.to_csv(\"ans_with_genres_without_Other_with_one_none_col.csv\",sep=',', index=False)\n"
   ]
  }
 ],
 "metadata": {
  "kernelspec": {
   "display_name": "Python 3",
   "language": "python",
   "name": "python3"
  },
  "language_info": {
   "codemirror_mode": {
    "name": "ipython",
    "version": 3
   },
   "file_extension": ".py",
   "mimetype": "text/x-python",
   "name": "python",
   "nbconvert_exporter": "python",
   "pygments_lexer": "ipython3",
   "version": "3.6.5"
  }
 },
 "nbformat": 4,
 "nbformat_minor": 2
}

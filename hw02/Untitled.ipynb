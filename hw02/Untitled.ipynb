{
 "cells": [
  {
   "cell_type": "code",
   "execution_count": 221,
   "metadata": {},
   "outputs": [],
   "source": [
    "import pandas as pd\n",
    "import numpy as np\n",
    "import matplotlib.pyplot as plt\n",
    "\n",
    "from sklearn.model_selection import GridSearchCV\n",
    "from sklearn.neighbors import KNeighborsClassifier\n",
    "from sklearn.feature_extraction import DictVectorizer\n",
    "from sklearn.model_selection import train_test_split\n",
    "from sklearn.linear_model import LogisticRegressionCV\n",
    "from sklearn.preprocessing import StandardScaler, Imputer\n",
    "from sklearn.preprocessing import LabelEncoder\n",
    "from sklearn.preprocessing import PolynomialFeatures\n",
    "from sklearn.metrics import mean_squared_error, r2_score\n",
    "from sklearn.pipeline import make_pipeline, FeatureUnion\n",
    "from sklearn.pipeline import Pipeline\n",
    "from sklearn.base import BaseEstimator, TransformerMixin\n",
    "from category_encoders import OneHotEncoder\n",
    "from math import sqrt\n",
    "\n",
    "%matplotlib inline"
   ]
  },
  {
   "cell_type": "markdown",
   "metadata": {},
   "source": [
    "<h2>Загрузка данных</h2>"
   ]
  },
  {
   "cell_type": "code",
   "execution_count": 222,
   "metadata": {},
   "outputs": [],
   "source": [
    "df_train = pd.read_csv('data/train_knn.csv')\n",
    "df_test = pd.read_csv('data/test_knn.csv')"
   ]
  },
  {
   "cell_type": "markdown",
   "metadata": {},
   "source": [
    "Отобранные фичи"
   ]
  },
  {
   "cell_type": "code",
   "execution_count": 223,
   "metadata": {},
   "outputs": [],
   "source": [
    "some_features = ['Cash','Downloads','startYear','numVotes','runtimeMinutes','worldPromotion']\n",
    "Y = df_train['rating']"
   ]
  },
  {
   "cell_type": "markdown",
   "metadata": {},
   "source": [
    "<h1>Пробую писать свой GenreEncoder чтобы засунуть в Pipeline</h1>"
   ]
  },
  {
   "cell_type": "code",
   "execution_count": 224,
   "metadata": {},
   "outputs": [],
   "source": [
    "class Selector(BaseEstimator, TransformerMixin):\n",
    "    def __init__(self, keys = ['titleType']):\n",
    "        self._ = keys\n",
    "        \n",
    "    def fit(self, df, y=None):\n",
    "        return self\n",
    "    \n",
    "    def transform(self, df, y=None):\n",
    "        return df[self._]\n",
    "    \n",
    "class GenreEncoder(BaseEstimator, TransformerMixin):\n",
    "    def __init__(self, namecolumn):\n",
    "        self.genres = []\n",
    "        self._namecolumn = namecolumn\n",
    "        \n",
    "    def fit(self, df, y=None):\n",
    "        samples = df[self._namecolumn]\n",
    "        for row in samples:\n",
    "            row = row.replace('nan', '\"nan\"')\n",
    "            row = row.replace('None', '\"None\"')\n",
    "\n",
    "            for genre in eval(row):\n",
    "                if genre not in self.genres:\n",
    "                    self.genres.append(genre)\n",
    "        return self\n",
    "    \n",
    "    def transform(self, df, y=None):\n",
    "        genre_rows = []\n",
    "        samples = df[self._namecolumn]\n",
    "        res_df = pd.DataFrame(columns=self.genres)\n",
    "        \n",
    "        for row in samples:\n",
    "            temp = [0] * len(self.genres)\n",
    "            \n",
    "            row = row.replace('nan', '\"nan\"')\n",
    "            row = row.replace('None', '\"None\"')\n",
    "            \n",
    "            for genre in eval(row):\n",
    "                temp[self.genres.index(genre)] = 1\n",
    "            \n",
    "            genre_rows.append(temp)\n",
    "            res = pd.DataFrame(genre_rows, columns = self.genres)\n",
    "            res.drop(columns=['nan'], inplace=True)\n",
    "        return res\n",
    "    \n",
    "#class TargetEncoder(BaseEstimator, TransformerMixin):\n",
    "\n",
    "estKNN = KNeighborsClassifier(n_neighbors=10)\n",
    "standardScaler = StandardScaler()\n",
    "genreEncoder = GenreEncoder('genres')\n",
    "typeOneHot = Pipeline([('select_types', Selector()), ('onehot',OneHotEncoder())])"
   ]
  },
  {
   "cell_type": "markdown",
   "metadata": {},
   "source": [
    "<h2> Выделение в один Pipeline </h2>"
   ]
  },
  {
   "cell_type": "code",
   "execution_count": 235,
   "metadata": {},
   "outputs": [],
   "source": [
    "categoryPipe = FeatureUnion([('typeOneHot', typeOneHot), ('genreEncoder', genreEncoder)])\n",
    "numberPipe = Pipeline([('numFeatureSelection', Selector(some_features)), ('fillNa', Imputer(strategy='mean')), ('standardization', standardScaler)])\n",
    "preprocessedData = FeatureUnion([('catP', categoryPipe), ('numPipe', numberPipe)])\n",
    "\n",
    "workFlowKNN = Pipeline([('featuresHandle', preprocessedData), ('estimatorKNN', estKNN)])\n"
   ]
  },
  {
   "cell_type": "markdown",
   "metadata": {},
   "source": [
    "<h3>Вспомогательная функция для predict(a)</h3>"
   ]
  },
  {
   "cell_type": "code",
   "execution_count": 236,
   "metadata": {},
   "outputs": [],
   "source": [
    "def getPrediction(df_train, df_test, target_train, estimator):\n",
    "    estimator.fit(df_train, target_train)\n",
    "    return pd.DataFrame({'Id':df_test['Id'],'class': estimator.predict(df_test)})"
   ]
  },
  {
   "cell_type": "code",
   "execution_count": 232,
   "metadata": {},
   "outputs": [],
   "source": [
    "sub = getPrediction(df_train, df_test, Y, workFlowLR)\n",
    "#sub.to_csv('second_with_cosine_metric.csv', index=False)"
   ]
  },
  {
   "cell_type": "markdown",
   "metadata": {},
   "source": [
    "# L1 REGULARIZATION"
   ]
  },
  {
   "cell_type": "code",
   "execution_count": 237,
   "metadata": {},
   "outputs": [],
   "source": [
    "df_train_preprocessed = preprocessedData.fit_transform(df_train)"
   ]
  },
  {
   "cell_type": "code",
   "execution_count": 245,
   "metadata": {},
   "outputs": [
    {
     "name": "stdout",
     "output_type": "stream",
     "text": [
      "    0    1    2    3    4    5    6    7    8    9     ...      36   37   38  \\\n",
      "0  1.0  0.0  0.0  0.0  0.0  0.0  0.0  0.0  0.0  0.0    ...     0.0  0.0  0.0   \n",
      "1  0.0  1.0  0.0  0.0  0.0  0.0  0.0  0.0  0.0  0.0    ...     0.0  0.0  0.0   \n",
      "2  1.0  0.0  0.0  0.0  0.0  0.0  0.0  0.0  0.0  0.0    ...     0.0  0.0  0.0   \n",
      "3  0.0  0.0  1.0  0.0  0.0  0.0  0.0  0.0  0.0  0.0    ...     0.0  0.0  0.0   \n",
      "4  0.0  1.0  0.0  0.0  0.0  0.0  0.0  0.0  0.0  0.0    ...     0.0  0.0  0.0   \n",
      "\n",
      "    39        40        41        42        43        44        45  \n",
      "0  0.0  0.166018  1.097697  0.570449 -0.074103 -0.953798  1.013086  \n",
      "1  0.0 -0.528980 -0.451967  0.570449  1.161443  1.432522 -0.987083  \n",
      "2  0.0 -0.209273  1.061106  0.617784 -0.076654 -1.382799  1.013086  \n",
      "3  0.0  1.352907  0.093152  0.144441 -0.076559  0.000000  1.013086  \n",
      "4  0.0 -1.419230  0.163520 -0.518240 -0.076182  0.000000 -0.987083  \n",
      "\n",
      "[5 rows x 46 columns]\n",
      "0       6\n",
      "1       8\n",
      "2       9\n",
      "3       6\n",
      "4       7\n",
      "5       4\n",
      "6       9\n",
      "7       8\n",
      "8       8\n",
      "9       8\n",
      "10      9\n",
      "11      6\n",
      "12      6\n",
      "13      4\n",
      "14      5\n",
      "15      7\n",
      "16      8\n",
      "17      6\n",
      "18      7\n",
      "19      7\n",
      "20      9\n",
      "21      6\n",
      "22      9\n",
      "23      8\n",
      "24      8\n",
      "25      7\n",
      "26      4\n",
      "27      7\n",
      "28      7\n",
      "29      8\n",
      "       ..\n",
      "1970    9\n",
      "1971    4\n",
      "1972    5\n",
      "1973    6\n",
      "1974    7\n",
      "1975    7\n",
      "1976    5\n",
      "1977    6\n",
      "1978    5\n",
      "1979    7\n",
      "1980    8\n",
      "1981    6\n",
      "1982    7\n",
      "1983    7\n",
      "1984    7\n",
      "1985    5\n",
      "1986    7\n",
      "1987    4\n",
      "1988    4\n",
      "1989    8\n",
      "1990    8\n",
      "1991    7\n",
      "1992    6\n",
      "1993    9\n",
      "1994    7\n",
      "1995    6\n",
      "1996    6\n",
      "1997    8\n",
      "1998    7\n",
      "1999    6\n",
      "Name: rating, Length: 2000, dtype: int64\n"
     ]
    }
   ],
   "source": [
    "df_train_preprocessed = pd.DataFrame(df_train_preprocessed)\n",
    "print(df_train_preprocessed.head())\n",
    "print(Y)"
   ]
  },
  {
   "cell_type": "code",
   "execution_count": 262,
   "metadata": {},
   "outputs": [
    {
     "name": "stdout",
     "output_type": "stream",
     "text": [
      "[1, 9, 29, 74, 155, 393, 534, 627, 164, 14]\n"
     ]
    }
   ],
   "source": [
    "#l1_cv = LogisticRegressionCV(penalty='l1', cv=2, solver='liblinear', scoring='accuracy').fit(df_train_preprocessed, Y)\n",
    "print([list(Y).count(i) for i in range(1,11)])"
   ]
  },
  {
   "cell_type": "markdown",
   "metadata": {},
   "source": [
    "# DEBUG"
   ]
  },
  {
   "cell_type": "code",
   "execution_count": 193,
   "metadata": {},
   "outputs": [
    {
     "data": {
      "text/plain": [
       "array([[ 1.        ,  0.        ,  0.        , ..., -0.07410313,\n",
       "        -0.90328413,  1.01308561],\n",
       "       [ 0.        ,  1.        ,  0.        , ...,  1.1614434 ,\n",
       "         1.47290112, -0.98708341],\n",
       "       [ 1.        ,  0.        ,  0.        , ..., -0.07665396,\n",
       "        -1.3304635 ,  1.01308561],\n",
       "       ...,\n",
       "       [ 0.        ,  0.        ,  0.        , ..., -0.07618158,\n",
       "        -0.3426112 ,  1.01308561],\n",
       "       [ 0.        ,  0.        ,  0.        , ..., -0.06739539,\n",
       "        -0.23581636, -0.98708341],\n",
       "       [ 0.        ,  1.        ,  0.        , ...,  0.01678201,\n",
       "         1.23261272,  1.01308561]])"
      ]
     },
     "execution_count": 193,
     "metadata": {},
     "output_type": "execute_result"
    }
   ],
   "source": [
    "tempUnion.fit_transform(df_train)\n",
    "#genreEncoder.fit_transform(df_train)\n",
    "#print(df_train.head())\n",
    "#one = LabelBinarizer()\n",
    "#one.fit(Selector().fit_transform(df_train))\n",
    "#print(one.fit_transform(Selector().fit_transform(df_train)))\n",
    "#typeOneHot.fit(df_train)\n",
    "#print(1)"
   ]
  },
  {
   "cell_type": "code",
   "execution_count": 132,
   "metadata": {},
   "outputs": [
    {
     "name": "stdout",
     "output_type": "stream",
     "text": [
      "3\n",
      "88\n",
      "22\n",
      "2\n",
      "88\n"
     ]
    }
   ],
   "source": [
    "e = 0\n",
    "f = 0\n",
    "n = int(input())\n",
    "for i in range(n):\n",
    "    a = int(input())\n",
    "    f = max(e,a)\n",
    "    e = f\n",
    "print(e)"
   ]
  }
 ],
 "metadata": {
  "kernelspec": {
   "display_name": "Python 3",
   "language": "python",
   "name": "python3"
  },
  "language_info": {
   "codemirror_mode": {
    "name": "ipython",
    "version": 3
   },
   "file_extension": ".py",
   "mimetype": "text/x-python",
   "name": "python",
   "nbconvert_exporter": "python",
   "pygments_lexer": "ipython3",
   "version": "3.6.5"
  }
 },
 "nbformat": 4,
 "nbformat_minor": 2
}
